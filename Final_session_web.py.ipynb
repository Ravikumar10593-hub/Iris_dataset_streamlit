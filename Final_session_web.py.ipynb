{
 "cells": [
  {
   "cell_type": "code",
   "execution_count": 1,
   "id": "26fb7490",
   "metadata": {},
   "outputs": [],
   "source": []
  },
  {
   "cell_type": "code",
   "execution_count": 7,
   "id": "680ea929",
   "metadata": {},
   "outputs": [
    {
     "ename": "SyntaxError",
     "evalue": "invalid syntax (<ipython-input-7-6bbd2c13da2f>, line 61)",
     "output_type": "error",
     "traceback": [
      "\u001b[1;36m  File \u001b[1;32m\"<ipython-input-7-6bbd2c13da2f>\"\u001b[1;36m, line \u001b[1;32m61\u001b[0m\n\u001b[1;33m    if model_run = True:\u001b[0m\n\u001b[1;37m                 ^\u001b[0m\n\u001b[1;31mSyntaxError\u001b[0m\u001b[1;31m:\u001b[0m invalid syntax\n"
     ]
    }
   ],
   "source": [
    "import streamlit as st\n",
    "import pandas as pd\n",
    "import numpy as np\n",
    "import matplotlib.pyplot as plt\n",
    "import seaborn as sns\n",
    "from sklearn.model_selection import train_test_split\n",
    "from sklearn.tree import DecisionTreeClassifier\n",
    "from sklearn.ensemble import RandomForestClassifier\n",
    "from sklearn.metrics import plot_confusion_matrix, accuracy_score\n",
    "\n",
    "\n",
    "def main():\n",
    "    \n",
    "    #Give a title\n",
    "    st.title(\"IRIS Classifier\")\n",
    "    st.sidebar.title(\"App Sidebar\")\n",
    "    st.markdown(\"Which species are you?\")\n",
    "    \n",
    "    \n",
    "    @st.cache \n",
    "    def load_data():\n",
    "        data = pd.read_csv(\"iris.csv\")\n",
    "        return data.drop('Id', axis = 1)\n",
    "    \n",
    "    @st.cache\n",
    "    def split(df):\n",
    "        x = df.drop('Species', axis = 1)\n",
    "        y = pd.factorize(df.Species)[0]\n",
    "        x_train, x_test, y_train, y_test = train_test_split(x,y, test_size = 0.25)\n",
    "        return x_train, x_test, y_train, y_test\n",
    "    \n",
    "    if st.sidebar.checkbox('Show Data', False):\n",
    "        st.write(load_data())\n",
    "    \n",
    "    model_run = False\n",
    "    \n",
    "    df = load_data()\n",
    "    \n",
    "    x_train, x_test, y_train, y_test = split(df)\n",
    "    \n",
    "    st.sidebar.subhead('Choose Classifier')\n",
    "    \n",
    "    classifier = st.sidebar.selectbox('Classifier', ('RandomForest', 'DecisionTrees'))\n",
    "    \n",
    "    if classifier == 'RandomForest':\n",
    "        n_estimators = st.sidebar.number_input('Estimators', 10, 100, step = 10, key = 'Estimator')\n",
    "        \n",
    "        if st.sidebar.checkbox('classify', key = 'classify'):\n",
    "            st.subheader('Random Forest Classifier')\n",
    "            model = RandomForestClassifier(n_estimators = n_estimators)\n",
    "            model.fit(x_train, y_train)\n",
    "            predict = model.predict(x_test)\n",
    "            accuracy = accuracy_score(y_test, predict)\n",
    "            st.write(\"Accuracy\", accuracy)\n",
    "            st.subheader(\"Confusion Matrix\")\n",
    "            plot_confusion_matrix(model , x_test, y_test , display_labels = ['Setosa', 'Versicolor', 'Verginica'])\n",
    "            st.pyplot()\n",
    "            \n",
    "            model_run = True\n",
    "            \n",
    "        if model_run = True:\n",
    "        st.subheader(\"Predict\")\n",
    "        pl = st.number_input('Petal_Length')\n",
    "        pw = st.number_input('Petal_Width')\n",
    "        sl = st.number_input('Sepal_Length')\n",
    "        sw = st.number_input('Sepal_Width')\n",
    "        \n",
    "        if st.button('Predict'):\n",
    "            species = model.predict([[pl,pw,sl,sw]])\n",
    "            \n",
    "            if species == 0:\n",
    "                species = 'Iris-Setosa'\n",
    "                st.succes('This species of Iris is {}'.format(species))\n",
    "            elif species == 1:\n",
    "                species = 'Iris-Versicolor'\n",
    "                st.succes('This species of Iris is {}'.format(species))\n",
    "            elif species == 2:\n",
    "                species = 'Iris-Verginica'\n",
    "                st.succes('This species of Iris is {}'.format(species))\n",
    "\n",
    "if __name__ == '__main__':\n",
    "    main()"
   ]
  },
  {
   "cell_type": "code",
   "execution_count": 3,
   "id": "1c4acc25",
   "metadata": {},
   "outputs": [],
   "source": []
  },
  {
   "cell_type": "code",
   "execution_count": null,
   "id": "5c8a5c95",
   "metadata": {},
   "outputs": [],
   "source": []
  }
 ],
 "metadata": {
  "kernelspec": {
   "display_name": "Python 3",
   "language": "python",
   "name": "python3"
  },
  "language_info": {
   "codemirror_mode": {
    "name": "ipython",
    "version": 3
   },
   "file_extension": ".py",
   "mimetype": "text/x-python",
   "name": "python",
   "nbconvert_exporter": "python",
   "pygments_lexer": "ipython3",
   "version": "3.9.6"
  }
 },
 "nbformat": 4,
 "nbformat_minor": 5
}
